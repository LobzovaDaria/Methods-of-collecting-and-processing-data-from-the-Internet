{
 "cells": [
  {
   "cell_type": "code",
   "execution_count": 2,
   "id": "85979027",
   "metadata": {},
   "outputs": [],
   "source": [
    "import requests\n",
    "from bs4 import BeautifulSoup as bs\n",
    "import pandas as pd"
   ]
  },
  {
   "cell_type": "code",
   "execution_count": 3,
   "id": "cb93e2b5",
   "metadata": {},
   "outputs": [],
   "source": [
    "HEADERS = {\n",
    "    'User-Agent': 'Mozilla/5.0 (Macintosh; Intel Mac OS X 10_15_7) AppleWebKit/537.36 (KHTML, like Gecko) Chrome/107.0.0.0 Safari/537.36'\n",
    "}\n",
    "\n",
    "def get_html(URL, params=''):\n",
    "    response = requests.get(URL, headers=HEADERS, params=params)\n",
    "    return response\n",
    "\n",
    "URL = 'https://hh.ru/search/vacancy'"
   ]
  },
  {
   "cell_type": "code",
   "execution_count": 4,
   "id": "544f5894",
   "metadata": {},
   "outputs": [],
   "source": [
    "def get_hh_content(response):\n",
    "    soup = bs(response, 'lxml')\n",
    "    items = soup.find_all('div', class_='vacancy-serp-item')\n",
    "    hh_vacancy = []\n",
    "\n",
    "    for item in items:\n",
    "        hh_vacancy.append(\n",
    "            {\n",
    "                'site': 'HeadHanter', # Название сайта\n",
    "                'title': item.find('div', class_='vacancy-serp-item__info').get_text(), # Название вакансии\n",
    "                'link': item.find('div', class_='vacancy-serp-item__info').find('a').get('href'), # Ссылка на вакансию\n",
    "                'salary': item.find('div', class_='vacancy-serp-item__sidebar'), # Зарплата\n",
    "                'city': item.find('span', class_='vacancy-serp-item__meta-info').get_text(), # Город\n",
    "                'organization': item.find('div', class_='vacancy-serp-item__meta-info-company').get_text(), # Название компании\n",
    "                'note': item.find('div', class_='vacancy-label') # Примечание\n",
    "            }\n",
    "        )\n",
    "        # Приведем данные к нормальному виду\n",
    "    for i in hh_vacancy:\n",
    "        # Salary\n",
    "        try:\n",
    "            i['salary'] = i['salary'].text\n",
    "        except:\n",
    "            i['salary'] = None\n",
    "        if i['salary']:\n",
    "            salary_list = i['salary'].split(' ')\n",
    "            if salary_list[0] == 'от':\n",
    "                i['salary_min'] = salary_list[1]\n",
    "                i['salary_max'] = None\n",
    "            elif salary_list[0] == 'до':\n",
    "                i['salary_min'] = None\n",
    "                i['salary_max'] = salary_list[1]\n",
    "            else:\n",
    "                i['salary_min'] = salary_list[0]\n",
    "                i['salary_max'] = salary_list[2]\n",
    "            i['salary_currency'] = salary_list[-1]\n",
    "        else:\n",
    "            i['salary_min'] = None\n",
    "            i['salary_max'] = None\n",
    "            i['salary_currency'] = None\n",
    "        i.pop('salary')\n",
    "        # note\n",
    "        if i['note'] != None:\n",
    "            i['note'] = i['note'].get_text()\n",
    "        # City\n",
    "        if i['city']:\n",
    "            city_list = i['city'].split(',')\n",
    "            i['city'] = city_list[0]\n",
    "    return hh_vacancy"
   ]
  },
  {
   "cell_type": "code",
   "execution_count": 7,
   "id": "50068aaa",
   "metadata": {},
   "outputs": [],
   "source": [
    "def parser_hh():\n",
    "    pages = 0\n",
    "    html = get_html(URL)\n",
    "    if html.status_code == 200:\n",
    "        vacancy = []\n",
    "        for page in range(1, pages + 1):\n",
    "#             print(f'Парсим страницу {page}')\n",
    "            html = get_html(URL, params={'text': post, 'page': page})\n",
    "            vacancy.extend(get_hh_content(html.text))\n",
    "        hh_result = pd.DataFrame(vacancy)\n",
    "    else:\n",
    "        hh_result = html.status_code\n",
    "    return hh_result"
   ]
  },
  {
   "cell_type": "code",
   "execution_count": 9,
   "id": "3ed66a78",
   "metadata": {},
   "outputs": [
    {
     "data": {
      "text/html": [
       "<div>\n",
       "<style scoped>\n",
       "    .dataframe tbody tr th:only-of-type {\n",
       "        vertical-align: middle;\n",
       "    }\n",
       "\n",
       "    .dataframe tbody tr th {\n",
       "        vertical-align: top;\n",
       "    }\n",
       "\n",
       "    .dataframe thead th {\n",
       "        text-align: right;\n",
       "    }\n",
       "</style>\n",
       "<table border=\"1\" class=\"dataframe\">\n",
       "  <thead>\n",
       "    <tr style=\"text-align: right;\">\n",
       "      <th></th>\n",
       "    </tr>\n",
       "  </thead>\n",
       "  <tbody>\n",
       "  </tbody>\n",
       "</table>\n",
       "</div>"
      ],
      "text/plain": [
       "Empty DataFrame\n",
       "Columns: []\n",
       "Index: []"
      ]
     },
     "execution_count": 9,
     "metadata": {},
     "output_type": "execute_result"
    }
   ],
   "source": [
    "df = parser_hh()\n",
    "df.head()"
   ]
  },
  {
   "cell_type": "code",
   "execution_count": 11,
   "id": "5929fb05",
   "metadata": {},
   "outputs": [],
   "source": [
    "save = df.to_csv"
   ]
  }
 ],
 "metadata": {
  "kernelspec": {
   "display_name": "Python 3 (ipykernel)",
   "language": "python",
   "name": "python3"
  },
  "language_info": {
   "codemirror_mode": {
    "name": "ipython",
    "version": 3
   },
   "file_extension": ".py",
   "mimetype": "text/x-python",
   "name": "python",
   "nbconvert_exporter": "python",
   "pygments_lexer": "ipython3",
   "version": "3.9.13"
  }
 },
 "nbformat": 4,
 "nbformat_minor": 5
}
