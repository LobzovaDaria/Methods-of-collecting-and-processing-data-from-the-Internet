{
 "cells": [
  {
   "cell_type": "markdown",
   "id": "fed61a20",
   "metadata": {},
   "source": [
    "Задание 1. <br>\n",
    "Посмотреть документацию к API GitHub, разобраться как вывести список репозиториев для конкретного пользователя, сохранить JSON-вывод в файле *.json."
   ]
  },
  {
   "cell_type": "code",
   "execution_count": 2,
   "id": "a0704875",
   "metadata": {},
   "outputs": [],
   "source": [
    "import requests\n",
    "import json"
   ]
  },
  {
   "cell_type": "code",
   "execution_count": 3,
   "id": "bb574372",
   "metadata": {},
   "outputs": [],
   "source": [
    "url = 'https://api.github.com'\n",
    "user='LobzovaDaria'"
   ]
  },
  {
   "cell_type": "code",
   "execution_count": 4,
   "id": "26bc2997",
   "metadata": {},
   "outputs": [],
   "source": [
    "req = requests.get(f'{url}/users/{user}/repos')"
   ]
  },
  {
   "cell_type": "code",
   "execution_count": 6,
   "id": "aa50ee93",
   "metadata": {},
   "outputs": [],
   "source": [
    "with open('data.json', 'w') as f:\n",
    "    json.dump(req.json(), f)"
   ]
  },
  {
   "cell_type": "code",
   "execution_count": 7,
   "id": "15a62fba",
   "metadata": {},
   "outputs": [
    {
     "name": "stdout",
     "output_type": "stream",
     "text": [
      "Data-visualization-in-Matplotlib\n",
      "kursovaya\n",
      "Learning-with-a-teacher-in-Scikit-learn\n",
      "Learning-without-a-teacher-in-Scikit-learn.\n",
      "Libraries-Python-For-Data-Science-Numpy-Matplotlib-Scikit-learn\n",
      "Methods-of-collecting-and-processing-data-from-the-Internet\n",
      "project_data_from_kaggle\n"
     ]
    }
   ],
   "source": [
    "for i in req.json():\n",
    "    print(i['name'])"
   ]
  },
  {
   "cell_type": "markdown",
   "id": "e4d4a061",
   "metadata": {},
   "source": [
    "Задание 2. <br>\n",
    "Изучить список открытых API (https://www.programmableweb.com/category/all/apis). Найти среди них любое, требующее авторизацию (любого типа). Выполнить запросы к нему, пройдя авторизацию. Ответ сервера записать в файл.Если нет желания заморачиваться с поиском, возьмите API вконтакте (https://vk.com/dev/first_guide). Сделайте запрос, чтобы получить список всех сообществ на которые вы подписаны."
   ]
  },
  {
   "cell_type": "markdown",
   "id": "90991cbc",
   "metadata": {},
   "source": [
    "Не могу понять, как в аунтифицированном аккаунте скачать данные какие-то, попыталась скачать файл с группами в вк, получилось вот так:{\"error\":{\"error_code\":5,\"error_msg\":\"User authorization failed: client_secret is incorrect.\",\"request_params\":[{\"key\":\"v\",\"value\":\"5.204\"},{\"key\":\"client_id\",\"value\":\"6287487\"},{\"key\":\"method\",\"value\":\"groups.getRecents\"},{\"key\":\"oauth\",\"value\":\"1\"}]}}"
   ]
  },
  {
   "cell_type": "markdown",
   "id": "d4e08352",
   "metadata": {},
   "source": [
    "Было бы здорово, если бы вы смогли объяснить, как это делать нормально"
   ]
  }
 ],
 "metadata": {
  "kernelspec": {
   "display_name": "Python 3 (ipykernel)",
   "language": "python",
   "name": "python3"
  },
  "language_info": {
   "codemirror_mode": {
    "name": "ipython",
    "version": 3
   },
   "file_extension": ".py",
   "mimetype": "text/x-python",
   "name": "python",
   "nbconvert_exporter": "python",
   "pygments_lexer": "ipython3",
   "version": "3.9.13"
  }
 },
 "nbformat": 4,
 "nbformat_minor": 5
}
